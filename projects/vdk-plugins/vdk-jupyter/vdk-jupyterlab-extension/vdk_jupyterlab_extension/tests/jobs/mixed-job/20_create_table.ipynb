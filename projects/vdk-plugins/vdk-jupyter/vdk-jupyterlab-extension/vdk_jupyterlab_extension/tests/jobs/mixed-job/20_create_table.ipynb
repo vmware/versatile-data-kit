{
 "cells": [
  {
   "cell_type": "code",
   "execution_count": 1,
   "id": "826a105f-1874-4251-8abd-75fb898ba71c",
   "metadata": {
    "pycharm": {
     "name": "#%%\n"
    },
    "tags": [
     "vdk"
    ]
   },
   "outputs": [
    {
     "ename": "NameError",
     "evalue": "name 'job_input' is not defined",
     "output_type": "error",
     "traceback": [
      "\u001b[0;31m---------------------------------------------------------------------------\u001b[0m",
      "\u001b[0;31mNameError\u001b[0m                                 Traceback (most recent call last)",
      "Cell \u001b[0;32mIn [1], line 1\u001b[0m\n\u001b[0;32m----> 1\u001b[0m \u001b[43mjob_input\u001b[49m\u001b[38;5;241m.\u001b[39mexecute_query(\u001b[38;5;124m\"\u001b[39m\u001b[38;5;124mCREATE TABLE rest_target_table (userId, id, title, completed);\u001b[39m\u001b[38;5;124m\"\u001b[39m)\n",
      "\u001b[0;31mNameError\u001b[0m: name 'job_input' is not defined"
     ]
    }
   ],
   "source": [
    "job_input.execute_query(\"CREATE TABLE rest_target_table (userId, id, title, completed);\")"
   ]
  },
  {
   "cell_type": "code",
   "execution_count": null,
   "id": "5379b00f-f3c5-41ec-8513-531d7e81b744",
   "metadata": {},
   "outputs": [],
   "source": []
  }
 ],
 "metadata": {
  "kernelspec": {
   "display_name": "Python 3 (ipykernel)",
   "language": "python",
   "name": "python3"
  },
  "language_info": {
   "codemirror_mode": {
    "name": "ipython",
    "version": 3
   },
   "file_extension": ".py",
   "mimetype": "text/x-python",
   "name": "python",
   "nbconvert_exporter": "python",
   "pygments_lexer": "ipython3",
   "version": "3.11.0"
  }
 },
 "nbformat": 4,
 "nbformat_minor": 5
}
