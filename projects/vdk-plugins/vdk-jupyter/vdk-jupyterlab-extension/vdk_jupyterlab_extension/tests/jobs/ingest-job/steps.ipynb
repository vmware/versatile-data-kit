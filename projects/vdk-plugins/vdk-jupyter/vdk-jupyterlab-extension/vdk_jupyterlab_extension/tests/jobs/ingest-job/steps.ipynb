{
 "cells": [
  {
   "cell_type": "code",
   "execution_count": 1,
   "id": "c635d290-99d5-4354-b95c-a3210e4cf6e1",
   "metadata": {
    "pycharm": {
     "name": "#%%\n"
    },
    "tags": [
     "vdk"
    ]
   },
   "outputs": [],
   "source": [
    "import requests"
   ]
  },
  {
   "cell_type": "code",
   "execution_count": 2,
   "id": "c948f9f2-1f7b-4d8c-aeca-9b300ded9775",
   "metadata": {
    "pycharm": {
     "name": "#%%\n"
    },
    "tags": [
     "vdk"
    ]
   },
   "outputs": [
    {
     "ename": "NameError",
     "evalue": "name 'job_input' is not defined",
     "output_type": "error",
     "traceback": [
      "\u001B[0;31m---------------------------------------------------------------------------\u001B[0m",
      "\u001B[0;31mNameError\u001B[0m                                 Traceback (most recent call last)",
      "Cell \u001B[0;32mIn [2], line 1\u001B[0m\n\u001B[0;32m----> 1\u001B[0m \u001B[43mjob_input\u001B[49m\u001B[38;5;241m.\u001B[39mexecute_query(\u001B[38;5;124m\"\u001B[39m\u001B[38;5;124mDROP TABLE IF EXISTS rest_target_table;\u001B[39m\u001B[38;5;124m\"\u001B[39m)\n",
      "\u001B[0;31mNameError\u001B[0m: name 'job_input' is not defined"
     ]
    }
   ],
   "source": [
    "job_input.execute_query(\"DROP TABLE IF EXISTS rest_target_table;\")"
   ]
  },
  {
   "cell_type": "code",
   "execution_count": null,
   "id": "826a105f-1874-4251-8abd-75fb898ba71c",
   "metadata": {
    "pycharm": {
     "name": "#%%\n"
    },
    "tags": [
     "vdk"
    ]
   },
   "outputs": [],
   "source": [
    "job_input.execute_query(\"CREATE TABLE rest_target_table (userId, id, title, completed);\")"
   ]
  },
  {
   "cell_type": "code",
   "execution_count": 3,
   "id": "654db028-2d0e-4f95-a377-e1fac1255f08",
   "metadata": {
    "pycharm": {
     "name": "#%%\n"
    },
    "tags": [
     "vdk"
    ]
   },
   "outputs": [],
   "source": [
    "payload = {\n",
    "        \"userId\": 1,\n",
    "        \"id\": 1,\n",
    "        \"title\": \"delectus aut autem\",\n",
    "        \"completed\": False\n",
    "        }"
   ]
  },
  {
   "cell_type": "code",
   "execution_count": 4,
   "id": "1791ee05-365d-43ba-92d4-68c7b729920d",
   "metadata": {
    "tags": [],
    "pycharm": {
     "name": "#%%\n"
    }
   },
   "outputs": [
    {
     "data": {
      "text/plain": [
       "{'userId': 1, 'id': 1, 'title': 'delectus aut autem', 'completed': False}"
      ]
     },
     "execution_count": 4,
     "metadata": {},
     "output_type": "execute_result"
    }
   ],
   "source": [
    "payload"
   ]
  },
  {
   "cell_type": "code",
   "execution_count": null,
   "id": "532975cd-2e85-465f-b510-bdfd264192cf",
   "metadata": {
    "tags": [
     "vdk"
    ],
    "pycharm": {
     "name": "#%%\n"
    }
   },
   "outputs": [],
   "source": [
    "job_input.send_object_for_ingestion(\n",
    "        payload=payload,\n",
    "        destination_table=\"rest_target_table\"\n",
    "    )"
   ]
  }
 ],
 "metadata": {
  "kernelspec": {
   "display_name": "Python 3 (ipykernel)",
   "language": "python",
   "name": "python3"
  },
  "language_info": {
   "codemirror_mode": {
    "name": "ipython",
    "version": 3
   },
   "file_extension": ".py",
   "mimetype": "text/x-python",
   "name": "python",
   "nbconvert_exporter": "python",
   "pygments_lexer": "ipython3",
   "version": "3.11.0"
  }
 },
 "nbformat": 4,
 "nbformat_minor": 5
}
