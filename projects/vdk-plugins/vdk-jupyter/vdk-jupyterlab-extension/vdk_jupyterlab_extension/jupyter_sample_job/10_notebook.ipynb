{
 "cells": [
  {
   "cell_type": "code",
   "execution_count": null,
   "id": "16a6ea87-7142-44dd-94b6-e95fe2d57d06",
   "metadata": {
    "tags": []
   },
   "outputs": [],
   "source": [
    "\"\"\"\n",
    "vdk.plugin.ipython extension introduces a magic command for Jupyter.\n",
    "The command enables the user to load VDK for the current notebook.\n",
    "VDK provides the job_input API, which has methods for:\n",
    "    * executing queries to an OLAP database;\n",
    "    * ingesting data into a database;\n",
    "    * processing data into a database.\n",
    "See the IJobInput documentation for more details.\n",
    "https://github.com/vmware/versatile-data-kit/blob/main/projects/vdk-core/src/vdk/api/job_input.py\n",
    "\n",
    "Please refrain from tagging this cell with VDK as it is not an actual part of the data job\n",
    "and is only used for development purposes.\n",
    "\"\"\"\n",
    "%reload_ext vdk.plugin.ipython\n",
    "%reload_VDK\n",
    "job_input = VDK.get_initialized_job_input()"
   ]
  },
  {
   "cell_type": "code",
   "execution_count": null,
   "id": "712a949e-8e9e-4c31-972a-6fab1b274c95",
   "metadata": {
    "tags": [
     "vdk"
    ]
   },
   "outputs": [],
   "source": [
    "%%vdksql\n",
    "/*\n",
    "Cells with '%%vdksql' magic are VDK SQL Cell (step).\n",
    "\n",
    "Note that this and the subsequent cells are marked as VDK cells.\n",
    "Cells can be marked or unmarked as VDK cells through the gearwheel menu to the right.\n",
    "*/\n",
    "\n",
    "CREATE TABLE IF NOT EXISTS hello_world (id NVARCHAR)"
   ]
  },
  {
   "cell_type": "code",
   "execution_count": null,
   "id": "36137500-9136-4083-8b04-073ed84e2d4c",
   "metadata": {
    "tags": [
     "vdk"
    ]
   },
   "outputs": [],
   "source": [
    "job_input.send_object_for_ingestion(\n",
    "    payload=dict(id=\"Hello World!\"),\n",
    "    destination_table=\"hello_world\"\n",
    ")"
   ]
  }
 ],
 "metadata": {
  "kernelspec": {
   "display_name": "Python 3 (ipykernel)",
   "language": "python",
   "name": "python3"
  },
  "language_info": {
   "codemirror_mode": {
    "name": "ipython",
    "version": 3
   },
   "file_extension": ".py",
   "mimetype": "text/x-python",
   "name": "python",
   "nbconvert_exporter": "python",
   "pygments_lexer": "ipython3",
   "version": "3.7.16"
  }
 },
 "nbformat": 4,
 "nbformat_minor": 5
}
