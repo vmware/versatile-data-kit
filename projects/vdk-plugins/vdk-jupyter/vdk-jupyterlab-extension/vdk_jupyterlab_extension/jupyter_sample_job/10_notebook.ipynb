{
 "cells": [
  {
   "cell_type": "code",
   "execution_count": null,
   "id": "16a6ea87-7142-44dd-94b6-e95fe2d57d06",
   "metadata": {},
   "outputs": [],
   "source": [
    "\"\"\"\n",
    "vdk_ipython extension introduces a magic command for Jupyter.\n",
    "The command enables the user to load VDK for the current notebook.\n",
    "VDK provides the job_input API, which has methods for:\n",
    "    * executing queries to an OLAP database;\n",
    "    * ingesting data into a database;\n",
    "    * processing data into a database.\n",
    "See the IJobInput documentation for more details.\n",
    "Please refrain from tagging this cell with VDK as it is not an actual part of the data job\n",
    "and is only used for development purposes.\n",
    "\"\"\"\n",
    "%reload_ext vdk_ipython\n",
    "%reload_VDK\n",
    "job_input = VDK.get_initialized_job_input()"
   ]
  }
 ],
 "metadata": {
  "kernelspec": {
   "display_name": "Python 3 (ipykernel)",
   "language": "python",
   "name": "python3"
  },
  "language_info": {
   "codemirror_mode": {
    "name": "ipython",
    "version": 3
   },
   "file_extension": ".py",
   "mimetype": "text/x-python",
   "name": "python",
   "nbconvert_exporter": "python",
   "pygments_lexer": "ipython3",
   "version": "3.7.16"
  }
 },
 "nbformat": 4,
 "nbformat_minor": 5
}
