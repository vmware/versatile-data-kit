{
 "cells": [
  {
   "cell_type": "code",
   "execution_count": null,
   "id": "f1663769-b267-46fd-ac01-933370653113",
   "metadata": {},
   "outputs": [],
   "source": [
    "\"\"\"\n",
    "vdk_ipython extension introduces a magic command for Jupyter.\n",
    "The command enables the user to load VDK for the current notebook.\n",
    "VDK provides the job_input API, which has methods for:\n",
    "    * executing queries to an OLAP database;\n",
    "    * ingesting data into a database;\n",
    "    * processing data into a database.\n",
    "See the IJobInput documentation for more details.\n",
    "Please refrain from tagging this cell with VDK as it is not an actual part of the data job\n",
    "and is only used for development purposes.\n",
    "\"\"\"\n",
    "%reload_ext vdk_ipython\n",
    "%reload_VDK\n",
    "job_input = VDK.get_initialized_job_input()"
   ]
  }
 ],
 "metadata": {
  "kernelspec": {
   "display_name": "Python 3 (ipykernel)",
   "language": "python",
   "name": "python3"
  },
  "language_info": {
   "codemirror_mode": {
    "name": "ipython",
    "version": 3
   },
   "file_extension": ".py",
   "mimetype": "text/x-python",
   "name": "python",
   "nbconvert_exporter": "python",
   "pygments_lexer": "ipython3",
   "version": "3.7.16"
  }
 },
 "nbformat": 4,
 "nbformat_minor": 5
}
