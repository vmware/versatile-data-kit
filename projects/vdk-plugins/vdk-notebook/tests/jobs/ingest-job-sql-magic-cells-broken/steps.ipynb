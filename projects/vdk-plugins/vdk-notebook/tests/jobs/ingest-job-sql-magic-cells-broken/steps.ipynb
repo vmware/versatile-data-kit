{
 "cells": [
  {
   "cell_type": "code",
   "execution_count": null,
   "id": "c635d290-99d5-4354-b95c-a3210e4cf6e1",
   "metadata": {
    "pycharm": {
     "name": "#%%\n"
    },
    "tags": [
     "vdk"
    ]
   },
   "outputs": [],
   "source": [
    "import requests"
   ]
  },
  {
   "cell_type": "code",
   "execution_count": null,
   "id": "c948f9f2-1f7b-4d8c-aeca-9b300ded9775",
   "metadata": {
    "pycharm": {
     "name": "#%%\n"
    },
    "tags": [
     "vdk"
    ]
   },
   "outputs": [],
   "source": [
    "%%mispelled\n",
    "DROP TABLE IF EXISTS rest_target_table_magic;"
   ]
  },
  {
   "cell_type": "code",
   "execution_count": null,
   "id": "826a105f-1874-4251-8abd-75fb898ba71c",
   "metadata": {
    "pycharm": {
     "name": "#%%\n"
    },
    "tags": [
     "vdk"
    ],
    "ExecuteTime": {
     "start_time": "2023-08-26T20:38:05.257148Z"
    }
   },
   "outputs": [],
   "source": [
    "%%vdksql\n",
    "CREATE TABLE rest_target_table_magic (userId, id, title, completed)"
   ]
  },
  {
   "cell_type": "code",
   "execution_count": null,
   "id": "654db028-2d0e-4f95-a377-e1fac1255f08",
   "metadata": {
    "tags": [
     "vdk"
    ],
    "pycharm": {
     "name": "#%%\n"
    },
    "ExecuteTime": {
     "start_time": "2023-08-26T20:38:05.261386Z"
    }
   },
   "outputs": [],
   "source": [
    "payload = {\n",
    "        \"userId\": 1,\n",
    "        \"id\": 1,\n",
    "        \"title\": \"delectus aut autem\",\n",
    "        \"completed\": False\n",
    "        }"
   ]
  },
  {
   "cell_type": "code",
   "execution_count": null,
   "id": "532975cd-2e85-465f-b510-bdfd264192cf",
   "metadata": {
    "tags": [
     "vdk"
    ]
   },
   "outputs": [],
   "source": [
    "job_input.send_object_for_ingestion(\n",
    "        payload=payload,\n",
    "        destination_table=\"rest_target_table_magic\"\n",
    "    )"
   ]
  }
 ],
 "metadata": {
  "kernelspec": {
   "display_name": "Python 3 (ipykernel)",
   "language": "python",
   "name": "python3"
  },
  "language_info": {
   "codemirror_mode": {
    "name": "ipython",
    "version": 3
   },
   "file_extension": ".py",
   "mimetype": "text/x-python",
   "name": "python",
   "nbconvert_exporter": "python",
   "pygments_lexer": "ipython3",
   "version": "3.9.12"
  }
 },
 "nbformat": 4,
 "nbformat_minor": 5
}
