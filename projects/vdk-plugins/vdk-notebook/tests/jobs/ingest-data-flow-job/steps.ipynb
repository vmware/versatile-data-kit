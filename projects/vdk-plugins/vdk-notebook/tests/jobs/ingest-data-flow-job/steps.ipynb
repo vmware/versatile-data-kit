{
 "cells": [
  {
   "cell_type": "code",
   "execution_count": null,
   "id": "654db028-2d0e-4f95-a377-e1fac1255f08",
   "metadata": {
    "tags": [
     "vdk"
    ],
    "pycharm": {
     "name": "#%%\n"
    }
   },
   "outputs": [],
   "source": [
    "%%vdkingest\n",
    "[sources]\n",
    "s1 = {name = \"auto-generated-data\"}\n",
    "\n",
    "[destinations]\n",
    "d1 = {method = \"memory\"}\n",
    "\n",
    "[[flows]]\n",
    "from=\"s1\"\n",
    "to=\"d1\""
   ]
  },
  {
   "cell_type": "code",
   "execution_count": null,
   "id": "532975cd-2e85-465f-b510-bdfd264192cf",
   "metadata": {
    "tags": [
     "vdk"
    ]
   },
   "outputs": [],
   "source": []
  }
 ],
 "metadata": {
  "kernelspec": {
   "display_name": "Python 3 (ipykernel)",
   "language": "python",
   "name": "python3"
  },
  "language_info": {
   "codemirror_mode": {
    "name": "ipython",
    "version": 3
   },
   "file_extension": ".py",
   "mimetype": "text/x-python",
   "name": "python",
   "nbconvert_exporter": "python",
   "pygments_lexer": "ipython3",
   "version": "3.9.12"
  }
 },
 "nbformat": 4,
 "nbformat_minor": 5
}
