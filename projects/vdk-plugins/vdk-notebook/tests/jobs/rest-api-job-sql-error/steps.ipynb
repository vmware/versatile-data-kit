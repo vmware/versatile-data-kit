{
 "cells": [
  {
   "cell_type": "code",
   "execution_count": null,
   "id": "c635d290-99d5-4354-b95c-a3210e4cf6e1",
   "metadata": {
    "pycharm": {
     "name": "#%%\n"
    },
    "tags": [
     "vdk"
    ]
   },
   "outputs": [],
   "source": [
    "import requests"
   ]
  },
  {
   "cell_type": "code",
   "execution_count": null,
   "id": "c948f9f2-1f7b-4d8c-aeca-9b300ded9775",
   "metadata": {
    "pycharm": {
     "name": "#%%\n"
    },
    "tags": [
     "vdk"
    ]
   },
   "outputs": [],
   "source": [
    "job_input.execute_query(\"DROP TABLE IF EXISTS rest_target_table;\")"
   ]
  },
  {
   "cell_type": "code",
   "execution_count": null,
   "id": "826a105f-1874-4251-8abd-75fb898ba71c",
   "metadata": {
    "pycharm": {
     "name": "#%%\n"
    },
    "tags": [
     "vdk"
    ]
   },
   "outputs": [],
   "source": [
    "job_input.execute_query(\"CREATET TABLE rest_target_table (userId, id, title, completed);\")"
   ]
  },
  {
   "cell_type": "code",
   "execution_count": null,
   "id": "40c5181f-7a29-4842-b3f4-d1258522c83c",
   "metadata": {
    "tags": [
     "vdk"
    ]
   },
   "outputs": [],
   "source": [
    "response = requests.get(\"https://jsonplaceholder.typicode.com/todos/1\")"
   ]
  },
  {
   "cell_type": "code",
   "execution_count": null,
   "id": "654db028-2d0e-4f95-a377-e1fac1255f08",
   "metadata": {
    "tags": [
     "vdk"
    ]
   },
   "outputs": [],
   "source": [
    "payload = response.json()"
   ]
  },
  {
   "cell_type": "code",
   "execution_count": null,
   "id": "532975cd-2e85-465f-b510-bdfd264192cf",
   "metadata": {
    "tags": [
     "vdk"
    ]
   },
   "outputs": [],
   "source": [
    "job_input.send_object_for_ingestion(\n",
    "        payload=payload,\n",
    "        destination_table=\"rest_target_table\"\n",
    "    )"
   ]
  }
 ],
 "metadata": {
  "kernelspec": {
   "display_name": "Python 3 (ipykernel)",
   "language": "python",
   "name": "python3"
  },
  "language_info": {
   "codemirror_mode": {
    "name": "ipython",
    "version": 3
   },
   "file_extension": ".py",
   "mimetype": "text/x-python",
   "name": "python",
   "nbconvert_exporter": "python",
   "pygments_lexer": "ipython3",
   "version": "3.9.12"
  }
 },
 "nbformat": 4,
 "nbformat_minor": 5
}
