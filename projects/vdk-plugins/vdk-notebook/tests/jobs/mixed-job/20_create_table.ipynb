{
 "cells": [
  {
   "cell_type": "code",
   "execution_count": null,
   "id": "826a105f-1874-4251-8abd-75fb898ba71c",
   "metadata": {
    "pycharm": {
     "name": "#%%\n"
    },
    "tags": [
     "vdk"
    ]
   },
   "outputs": [],
   "source": [
    "job_input.execute_query(\"CREATE TABLE rest_target_table (userId, id, title, completed);\")"
   ]
  }
 ],
 "metadata": {
  "kernelspec": {
   "display_name": "Python 3 (ipykernel)",
   "language": "python",
   "name": "python3"
  },
  "language_info": {
   "codemirror_mode": {
    "name": "ipython",
    "version": 3
   },
   "file_extension": ".py",
   "mimetype": "text/x-python",
   "name": "python",
   "nbconvert_exporter": "python",
   "pygments_lexer": "ipython3",
   "version": "3.11.0"
  }
 },
 "nbformat": 4,
 "nbformat_minor": 5
}
