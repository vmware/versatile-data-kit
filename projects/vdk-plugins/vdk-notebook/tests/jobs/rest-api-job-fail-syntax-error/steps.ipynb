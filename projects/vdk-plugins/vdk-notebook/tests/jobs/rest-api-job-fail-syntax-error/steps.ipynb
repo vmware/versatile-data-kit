{
 "cells": [
  {
   "cell_type": "code",
   "execution_count": null,
   "id": "c635d290-99d5-4354-b95c-a3210e4cf6e1",
   "metadata": {
    "tags": [
     "vdk"
    ]
   },
   "outputs": [],
   "source": [
    "import requests"
   ]
  },
  {
   "cell_type": "code",
   "execution_count": null,
   "id": "c948f9f2-1f7b-4d8c-aeca-9b300ded9775",
   "metadata": {
    "tags": [
     "vdk"
    ]
   },
   "outputs": [],
   "source": [
    "job_input.execute_query(\"DROP TABLE IF EXISTS rest_target_table;\")"
   ]
  },
  {
   "cell_type": "code",
   "execution_count": null,
   "id": "826a105f-1874-4251-8abd-75fb898ba71c",
   "metadata": {
    "tags": [
     "vdk"
    ]
   },
   "outputs": [],
   "source": [
    "job_input.execute_query(\"CREATE TABLE rest_target_table (userId, id, title, completed);\")"
   ]
  },
  {
   "cell_type": "code",
   "execution_count": null,
   "id": "6328e3c0-f084-4257-9184-4a8696af7afe",
   "metadata": {
    "tags": [
     "vdk"
    ]
   },
   "outputs": [],
   "source": [
    "response = requests.get(\"https://jsonplaceholder.typicode.com/todos/1\")\n",
    "ss"
   ]
  },
  {
   "cell_type": "code",
   "execution_count": null,
   "id": "211b1800-6699-49c0-83bc-fe6d9878adcf",
   "metadata": {
    "tags": [
     "vdk"
    ]
   },
   "outputs": [],
   "source": [
    "payload = response.json()"
   ]
  },
  {
   "cell_type": "code",
   "execution_count": null,
   "id": "571e50b5-8fe4-40ec-b9df-1f867dff7262",
   "metadata": {
    "tags": [
     "vdk"
    ]
   },
   "outputs": [],
   "source": [
    "job_input.send_object_for_ingestion(\n",
    "        payload=payload,\n",
    "        destination_table=\"rest_target_table\"\n",
    "    )"
   ]
  }
 ],
 "metadata": {
  "kernelspec": {
   "display_name": "Python 3 (ipykernel)",
   "language": "python",
   "name": "python3"
  },
  "language_info": {
   "codemirror_mode": {
    "name": "ipython",
    "version": 3
   },
   "file_extension": ".py",
   "mimetype": "text/x-python",
   "name": "python",
   "nbconvert_exporter": "python",
   "pygments_lexer": "ipython3",
   "version": "3.9.12"
  }
 },
 "nbformat": 4,
 "nbformat_minor": 5
}
