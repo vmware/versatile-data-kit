{
 "cells": [
  {
   "cell_type": "code",
   "execution_count": null,
   "id": "c948f9f2-1f7b-4d8c-aeca-9b300ded9775",
   "metadata": {
    "tags": [
     "vdk"
    ]
   },
   "outputs": [],
   "source": [
    "job_input.execute_query(\"DROP TABLE IF EXISTS rest_target_table;\")"
   ]
  },
  {
   "cell_type": "code",
   "execution_count": null,
   "id": "826a105f-1874-4251-8abd-75fb898ba71c",
   "metadata": {
    "tags": [
     "vdk"
    ]
   },
   "outputs": [],
   "source": [
    "job_input.execute_query(\"CREATE TABLE rest_target_table (userId, id, title, completed);\")"
   ]
  },
  {
   "cell_type": "code",
   "execution_count": null,
   "id": "50d919f5-3bd9-44e1-b8be-9f3e3c3dba54",
   "metadata": {
    "tags": [
     "vdk"
    ],
    "pycharm": {
     "name": "#%%\n"
    }
   },
   "outputs": [],
   "source": [
    "payload = {\n",
    "        \"userId\": 1,\n",
    "        \"id\": 1,\n",
    "        \"title\": \"delectus aut autem\",\n",
    "        \"completed\": False\n",
    "        }"
   ]
  },
  {
   "cell_type": "code",
   "execution_count": null,
   "id": "d723ca2f-08d2-40eb-af87-99b8739e2761",
   "metadata": {
    "tags": [
     "vdk"
    ]
   },
   "outputs": [],
   "source": [
    "hello = \"hello\"\n",
    "hello1 = hello + 1"
   ]
  },
  {
   "cell_type": "code",
   "execution_count": null,
   "id": "2c166fa2-a889-4745-8fb4-899a113914dc",
   "metadata": {
    "tags": [
     "vdk"
    ]
   },
   "outputs": [],
   "source": [
    "job_input.send_object_for_ingestion(\n",
    "        payload=payload,\n",
    "        destination_table=\"rest_target_table\"\n",
    "    )"
   ]
  }
 ],
 "metadata": {
  "kernelspec": {
   "display_name": "Python 3 (ipykernel)",
   "language": "python",
   "name": "python3"
  },
  "language_info": {
   "codemirror_mode": {
    "name": "ipython",
    "version": 3
   },
   "file_extension": ".py",
   "mimetype": "text/x-python",
   "name": "python",
   "nbconvert_exporter": "python",
   "pygments_lexer": "ipython3",
   "version": "3.9.12"
  }
 },
 "nbformat": 4,
 "nbformat_minor": 5
}
