{
  "nbformat": 4,
  "nbformat_minor": 0,
  "metadata": {
    "colab": {
      "provenance": [],
      "include_colab_link": true
    },
    "kernelspec": {
      "name": "python3",
      "display_name": "Python 3"
    },
    "language_info": {
      "name": "python"
    }
  },
  "cells": [
    {
      "cell_type": "markdown",
      "metadata": {
        "id": "view-in-github",
        "colab_type": "text"
      },
      "source": [
        "<a href=\"https://colab.research.google.com/github/vmware/versatile-data-kit/blob/main/events/workshops/ingest-anonymize/IngestAndAnonymizeWorkshop.ipynb\" target=\"_parent\"><img src=\"https://colab.research.google.com/assets/colab-badge.svg\" alt=\"Open In Colab\"/></a>"
      ]
    },
    {
      "cell_type": "markdown",
      "source": [
        "\n",
        "\n",
        "# Ingest and Anonymize Workshop"
      ],
      "metadata": {
        "id": "-kBo-YdbHahM"
      }
    },
    {
      "cell_type": "markdown",
      "source": [
        "In the era of Big Data, it's crucial to maintain the privacy and security of sensitive data. This notebook provides a guide on how to ingest user data, anonymize some parts of it, and store it in a relational database, using the [Versatile Data Kit (VDK)](https://github.com/vmware/versatile-data-kit)\n",
        "\n"
      ],
      "metadata": {
        "id": "tiB5cbn1HdSd"
      }
    },
    {
      "cell_type": "markdown",
      "source": [
        "![ingest-anonymize.png](https://github.com/vmware/versatile-data-kit/assets/2536458/b82da725-610c-4b19-9bb4-599d4f4daaa0)"
      ],
      "metadata": {
        "id": "VNA1a0bGHIjb"
      }
    },
    {
      "cell_type": "markdown",
      "source": [
        "<a name=\"prerequisites\"></a>\n",
        "## 1. Prerequisites"
      ],
      "metadata": {
        "id": "QgmxvpD3HumX"
      }
    },
    {
      "cell_type": "markdown",
      "source": [
        "### 1.1 Good to Know Before You Start\n"
      ],
      "metadata": {
        "id": "YvV7ZdOhIjwd"
      }
    },
    {
      "cell_type": "markdown",
      "source": [
        "This tutorial is designed to be accessible, but you'll find it easier if you're familiar with:\n",
        "\n",
        "- **Python and SQL**: Basic commands and queries.\n",
        "- **Data Concepts**: Simple data modeling and API usage.\n",
        "- **Tools**: Comfort with command line and Jupyter Notebook"
      ],
      "metadata": {
        "id": "6j3Es3m9ImjX"
      }
    },
    {
      "cell_type": "markdown",
      "source": [
        "### 1.2 Useful notebook shortcuts"
      ],
      "metadata": {
        "id": "6FVatJ5IE1mE"
      }
    },
    {
      "cell_type": "markdown",
      "source": [
        "\n",
        "* Click the **Play icon** in the left gutter of the cell;\n",
        "* Type **Cmd/Ctrl+Enter** to run the cell in place;\n",
        "* Type **Shift+Enter** to run the cell and move focus to the next cell (adding one if none exists); or\n",
        "* Type **Alt+Enter** to run the cell and insert a new code cell immediately below it.\n",
        "\n",
        "There are additional options for running some or all cells in the **Runtime** menu on top.\n"
      ],
      "metadata": {
        "id": "wQd3EtynScIi"
      }
    },
    {
      "cell_type": "markdown",
      "source": [
        "### 1.3 Install Versatile Data Kit and enable plugins"
      ],
      "metadata": {
        "id": "cUgMUbuFH0sO"
      }
    },
    {
      "cell_type": "code",
      "source": [
        "!pip install quickstart-vdk vdk-notebook vdk-ipython vdk-singer tap-rest-api-msdk"
      ],
      "metadata": {
        "id": "A4cmJRoOHyUV"
      },
      "execution_count": null,
      "outputs": []
    },
    {
      "cell_type": "markdown",
      "source": [
        "### 1.4. Intro quiz"
      ],
      "metadata": {
        "id": "bWO_0_v1kAwB"
      }
    },
    {
      "cell_type": "code",
      "source": [
        "from IPython.display import display, HTML\n",
        "\n",
        "iframe_html = \"\"\"\n",
        "<iframe width=\"100%\" height=\"600px\" src=\"https://forms.office.com/Pages/ResponsePage.aspx?id=yjiRs-48Skuk1s2D2d1i8HWjU6i4VDpCiaHEIRxgSIpUOUZLMUFUNUoyUk9TODYzOU1GTU5KVklUQi4u&embed=true\" frameborder=\"0\" marginwidth=\"0\" marginheight=\"0\" style=\"border: none; max-width:100%; max-height:100vh\" allowfullscreen webkitallowfullscreen mozallowfullscreen msallowfullscreen> </iframe>\"\"\"\n",
        "\n",
        "display(HTML(iframe_html))\n"
      ],
      "metadata": {
        "id": "V1feu4xej_2c"
      },
      "execution_count": null,
      "outputs": []
    },
    {
      "cell_type": "markdown",
      "source": [
        "<a name=\"configuration\"></a>\n",
        "## 2. Configuration"
      ],
      "metadata": {
        "id": "8sm53R6iYZph"
      }
    },
    {
      "cell_type": "code",
      "source": [
        "%env DB_DEFAULT_TYPE=sqlite\n",
        "%env INGEST_METHOD_DEFAULT=sqlite\n",
        "%env INGESTER_WAIT_TO_FINISH_AFTER_EVERY_SEND=true"
      ],
      "metadata": {
        "id": "uT4zIX7CXaqH"
      },
      "execution_count": null,
      "outputs": []
    },
    {
      "cell_type": "markdown",
      "source": [
        "<a name=\"init\"></a>\n",
        "## 3. Initialize new VDK job (input)"
      ],
      "metadata": {
        "id": "dBgTQ8mGYfi3"
      }
    },
    {
      "cell_type": "code",
      "source": [
        "\"\"\"\n",
        "vdk.plugin.ipython extension introduces a magic command for Jupyter.\n",
        "The command enables the user to load VDK for the current notebook.\n",
        "VDK provides the job_input API, which has methods for:\n",
        "    * executing queries to an OLAP database;\n",
        "    * ingesting data into a database;\n",
        "    * processing data into a database.\n",
        "Type help(job_input) to see its documentation.\n",
        "\n",
        "\"\"\"\n",
        "%reload_ext vdk.plugin.ipython\n",
        "%reload_VDK\n",
        "job_input = VDK.get_initialized_job_input()"
      ],
      "metadata": {
        "id": "jkVZGWRbNL_-"
      },
      "execution_count": null,
      "outputs": []
    },
    {
      "cell_type": "markdown",
      "source": [
        "<a name=\"explore\"></a>\n",
        "\n",
        "### 3.1 Explore what you can do (Task 1)"
      ],
      "metadata": {
        "id": "9HwcSjc4TTDe"
      }
    },
    {
      "cell_type": "markdown",
      "source": [
        "![image.png](https://github.com/vmware/versatile-data-kit/assets/2536458/80ba93a9-e2cf-4067-bd09-90807e06aa33)"
      ],
      "metadata": {
        "id": "BZhvnKy3c86V"
      }
    },
    {
      "cell_type": "code",
      "source": [
        "# See all methods with help:\n",
        "help(job_input)"
      ],
      "metadata": {
        "id": "QZR1wggnSwox"
      },
      "execution_count": null,
      "outputs": []
    },
    {
      "cell_type": "markdown",
      "source": [
        "#### 3.1.1 Access job arguments\n",
        "\n"
      ],
      "metadata": {
        "id": "4xDSmBPbmRgZ"
      }
    },
    {
      "cell_type": "code",
      "source": [
        "print(job_input.get_arguments())"
      ],
      "metadata": {
        "id": "7Vt3g_FdmvG6"
      },
      "execution_count": null,
      "outputs": []
    },
    {
      "cell_type": "markdown",
      "source": [
        "#### 3.1.2 Ingest data"
      ],
      "metadata": {
        "id": "jwlP2bHNnqoT"
      }
    },
    {
      "cell_type": "code",
      "source": [
        "# Ingest pandas dataframe\n",
        "import pandas as pd\n",
        "dummy_df = pd.DataFrame({\"column_1\": [5,6], \"column_2\": [55,66]})\n",
        "\n",
        "job_input.send_tabular_data_for_ingestion(\n",
        "        dummy_df.itertuples(index=False),\n",
        "        destination_table=\"dummy_sent_data\",\n",
        "        column_names=dummy_df.columns.tolist(),\n",
        "    )"
      ],
      "metadata": {
        "id": "UBM3aVblR5Nw"
      },
      "execution_count": null,
      "outputs": []
    },
    {
      "cell_type": "code",
      "source": [
        "# Ingest specific object (aka dictionary). you can use instance.__dict__ to convert class instance to dict.\n",
        "job_input.send_object_for_ingestion(payload={\"column_1\": 7, \"column_2\": 77}, destination_table=\"dummy_sent_data\")"
      ],
      "metadata": {
        "id": "_FJU7DWgnrJH"
      },
      "execution_count": null,
      "outputs": []
    },
    {
      "cell_type": "markdown",
      "source": [
        "For no-code or less-code ingestion you can checkout [this tutorial](https://colab.research.google.com/github/vmware/versatile-data-kit/blob/main/events/data-sources/Ingest.ipynb)"
      ],
      "metadata": {
        "id": "j0y9qzq8p7bB"
      }
    },
    {
      "cell_type": "markdown",
      "source": [
        "#### 3.1.3 Execute SQL Queries"
      ],
      "metadata": {
        "id": "ek9Jm7ewbhF-"
      }
    },
    {
      "cell_type": "code",
      "source": [
        "%%vdksql\n",
        "select * from dummy_sent_data"
      ],
      "metadata": {
        "id": "RIQC89avSJRv"
      },
      "execution_count": null,
      "outputs": []
    },
    {
      "cell_type": "markdown",
      "source": [
        "#### 3.1.4 Manage state properties or secrets"
      ],
      "metadata": {
        "id": "Dvacc37bbkqn"
      }
    },
    {
      "cell_type": "code",
      "source": [
        "import time\n",
        "job_input.set_all_properties({\"last_time_run\": time.time()})\n",
        "job_input.set_all_secrets({ \"secret\": \"my secret\" })\n",
        "\n",
        "print(job_input.get_all_properties())"
      ],
      "metadata": {
        "id": "MlpWM1KvUej-"
      },
      "execution_count": null,
      "outputs": []
    },
    {
      "cell_type": "markdown",
      "source": [
        "<a name=\"ingest\"></a>\n",
        "## 4. Ingesting Users data (Task 2)\n",
        "\n",
        "**Ingest** user data from HTTP API (https://jsonplaceholder.typicode.com/users) into a database (sqlite in this case)"
      ],
      "metadata": {
        "id": "4pW_qT8hWeIx"
      }
    },
    {
      "cell_type": "code",
      "source": [
        "url=\"https://jsonplaceholder.typicode.com/users\""
      ],
      "metadata": {
        "id": "lDU5EebLf-9y"
      },
      "execution_count": null,
      "outputs": []
    },
    {
      "cell_type": "code",
      "source": [
        "import requests\n",
        "import pandas as pd\n",
        "# TODO:\n",
        "# HINTs:\n",
        "# - You can get the data using data = requests.get(url).json()\n",
        "# - flattened_df = pd.json_normalize(data, sep='_') is useful to flatten nested objects\n",
        "# - use job_input.send.... methods (see above examples) for pandas data frames\n",
        "\n",
        "\n"
      ],
      "metadata": {
        "id": "psl2EhnDfcme"
      },
      "execution_count": null,
      "outputs": []
    },
    {
      "cell_type": "code",
      "source": [
        "%%vdksql\n",
        "# TODO : inspect the data"
      ],
      "metadata": {
        "id": "mcmyJQZ7Wgyp"
      },
      "execution_count": null,
      "outputs": []
    },
    {
      "cell_type": "markdown",
      "source": [
        "<a name=\"anonymization\"></a>\n",
        "## 5. Anonymization Plugin (Task 3)\n",
        "\n",
        "- The plugin should be configurable using `anonymization_fields={table_name: [columns], ...}`\n",
        "\n",
        "- Upon installation it will anonymized above fields\n",
        "\n",
        "\n",
        "To get started we can see See https://github.com/vmware/versatile-data-kit/tree/main/projects/vdk-plugins\n",
        "\n"
      ],
      "metadata": {
        "id": "s1u668GikSC2"
      }
    },
    {
      "cell_type": "markdown",
      "source": [
        "### 5.1 Benefits of Using a Pre-Ingest Plugin for Data Anonymization"
      ],
      "metadata": {
        "id": "QjN8SwXabR8h"
      }
    },
    {
      "cell_type": "markdown",
      "source": [
        "* 🔐 **Modularity**: Separates anonymization from ingestion, making it easier to manage both.\n",
        "* 🔄 **Reusability**: A single plugin can be used across different pipelines and by multiple teams.\n",
        "* ⚡ **Performance**: Enables batch processing and parallel executions and other optimizatons.\n",
        "* ✔️ **Data Integrity**: Dedicated validation and error-handling specifically for anonymized data.\n",
        "* 🔍 **Compliance & Auditing**: Centralized control simplifies legal compliance and auditing processes"
      ],
      "metadata": {
        "id": "qloGsFfdbntg"
      }
    },
    {
      "cell_type": "markdown",
      "source": [
        "### 5.2 Generate a VDK Plugin package project"
      ],
      "metadata": {
        "id": "DuGGzyvwJOEm"
      }
    },
    {
      "cell_type": "code",
      "source": [
        "!pip install -U cookiecutter"
      ],
      "metadata": {
        "id": "9L8JPx_Vjs6n"
      },
      "execution_count": null,
      "outputs": []
    },
    {
      "cell_type": "code",
      "source": [
        "!cookiecutter https://github.com/tozka/cookiecutter-vdk-plugin.git"
      ],
      "metadata": {
        "id": "_tRBfmaVkRsv"
      },
      "execution_count": null,
      "outputs": []
    },
    {
      "cell_type": "markdown",
      "source": [
        "\n",
        "**Open Files tab on the left , you should see newly created directory looking like this:**\n",
        "\n",
        "** Open plugin_entry.py . You will be editing this file **\n",
        "\n",
        "![image.png](https://github.com/vmware/versatile-data-kit/assets/2536458/1ef079f0-a6da-4832-ba37-8992fefba9ca)"
      ],
      "metadata": {
        "id": "5UAr-9azQsdF"
      }
    },
    {
      "cell_type": "markdown",
      "source": [
        "### 5.3 Implement Pre Ingest Process Hook\n",
        "\n",
        "See [Ingester hooks documentation at here](https://github.com/vmware/versatile-data-kit/blob/7fba4f7c5c4da968e80d6a562b44517433b76e73/projects/vdk-core/src/vdk/api/plugin/plugin_input.py#L230)\n",
        "\n",
        "We will implement AnonymizationIngesterPlugin class like that:\n",
        "\n",
        "```python\n",
        "class AnonymizationIngesterPlugin(IIngesterPlugin):\n",
        "    def __init__(\n",
        "        self, anonymization_fields: Dict[str, List[str]] ) -> None:\n",
        "        self._anonymization_fields = anonymization_fields\n",
        "\n",
        "    # inherited\n",
        "    def pre_ingest_process(\n",
        "        self,\n",
        "        payload: List[dict],\n",
        "        destination_table: Optional[str] = None,\n",
        "        target: Optional[str] = None,\n",
        "        collection_id: Optional[str] = None,\n",
        "        metadata: IngestionMetadata = None,\n",
        "    ) -> Tuple[List[Dict], Optional[IngestionMetadata]]:\n",
        "        # Anonymize fields in payload based on _anonymization_fields\n",
        "        anonymized_payload = []\n",
        "\n",
        "        # TODO: your implementation\n",
        "        # You can find a full solution at the end of the notebook\n",
        "\n",
        "        return anonymized_payload, metadata\n",
        "```"
      ],
      "metadata": {
        "id": "yerjAmihKkgc"
      }
    },
    {
      "cell_type": "markdown",
      "source": [
        "### 5.4 What configuration your plugin needs?  \n",
        "\n",
        "Edit plugin_entry.py and add `vdk_configure` hook\n",
        "\n",
        "It should accept list of tables and fields to anonymize\n",
        "\n",
        "Implement [vdk_configure hook](https://github.com/vmware/versatile-data-kit/blob/main/projects/vdk-core/src/vdk/api/plugin/core_hook_spec.py#L76)\n",
        "\n",
        "Let's add field `anonymization_fields` which would be of type `Dict[str, list]` key can be table name and value is list of columns ot obfuscate.\n",
        "\n",
        "```python\n",
        "def vdk_configure(self, config_builder: \"ConfigurationBuilder\") -> None:\n",
        "        \"\"\"\n",
        "         Add new configuration keys and values.\n",
        "      \n",
        "        Example::\n",
        "\n",
        "         config_builder.add(\n",
        "                  key=\"key_name\",\n",
        "                  default_value=\"\",\n",
        "                  description=\"Key Description\",\n",
        "          )\n",
        "\n",
        "        Or set the value of configuration key\n",
        "\n",
        "        Example::\n",
        "\n",
        "          config_builder.set_value(\"key_name\", \"value\")\n",
        "        \"\"\"\n",
        "```"
      ],
      "metadata": {
        "id": "6ADpnRgRKsts"
      }
    },
    {
      "cell_type": "markdown",
      "source": [
        "### 5.5 Initialize and register the ingester hooks\n",
        "\n",
        "Copy this in plugin_entry.py\n",
        "\n",
        "```python\n",
        "@hookimpl\n",
        "def initialize_job(context: JobContext) -> None:\n",
        "    # Let's get the correctly configured value\n",
        "    anonymization_fields = context.core_context.configuration.get_value(\n",
        "        \"anonymization_fields\"\n",
        "    )\n",
        "    anonymization_fields = json.loads(anonymization_fields)\n",
        "    context.ingester.add_ingester_factory_method(\n",
        "        \"anonymize\", # we will use this ID, later to add it as preprocessing sequence\n",
        "        lambda: AnonymizationIngesterPlugin(anonymization_fields),\n",
        "    )\n",
        "```"
      ],
      "metadata": {
        "id": "GPkSGSy3Mq2j"
      }
    },
    {
      "cell_type": "markdown",
      "source": [
        "### 5.6 Install the newly build plugin"
      ],
      "metadata": {
        "id": "_248rdZROtSr"
      }
    },
    {
      "cell_type": "code",
      "source": [
        "!pip install -e vdk-anonymize # or whichever name you chose"
      ],
      "metadata": {
        "id": "HCuN-J2TmUc7"
      },
      "execution_count": null,
      "outputs": []
    },
    {
      "cell_type": "markdown",
      "source": [
        "**Restart the runtime** to load the new package:\n",
        "\n",
        "![xxx.png](https://github.com/vmware/versatile-data-kit/assets/2536458/3e23fec9-3f1d-488a-80e1-24e1b6036a5f)"
      ],
      "metadata": {
        "id": "RhUn6pPgc-RZ"
      }
    },
    {
      "cell_type": "markdown",
      "source": [
        "### 5.7 Configure the new plugin"
      ],
      "metadata": {
        "id": "NkhjJ8EVdeS5"
      }
    },
    {
      "cell_type": "code",
      "source": [
        "# The same as above\n",
        "%env DB_DEFAULT_TYPE=sqlite\n",
        "%env INGEST_METHOD_DEFAULT=sqlite\n",
        "%env INGESTER_WAIT_TO_FINISH_AFTER_EVERY_SEND=true\n",
        "\n",
        "# The new configuraiton:\n",
        "%env anonymization_fields = { \"users\": [\"name\", \"username\", \"email\"] }\n",
        "%env ingest_payload_preprocess_sequence=anonymize\n",
        "\n",
        "# Reload as above:\n",
        "%reload_ext vdk.plugin.ipython\n",
        "# you may pass --log-level-vdk DEBUG to change log level\n",
        "%reload_VDK\n",
        "job_input = VDK.get_initialized_job_input()"
      ],
      "metadata": {
        "id": "C4_wIS7koNxR"
      },
      "execution_count": null,
      "outputs": []
    },
    {
      "cell_type": "markdown",
      "source": [
        "### 5.8 Test and verify\n",
        "\n",
        "Go back to step [**4. Ingesting Users data**](#ingest) and do it again. Now data should be anonymized"
      ],
      "metadata": {
        "id": "IN_kj3X0PFk2"
      }
    },
    {
      "cell_type": "markdown",
      "source": [
        "<br/>"
      ],
      "metadata": {
        "id": "BQzaocdzeITg"
      }
    },
    {
      "cell_type": "markdown",
      "source": [
        "<a name=\"final-quiz\"></a>\n",
        "## Final Quiz"
      ],
      "metadata": {
        "id": "ru3dTo25oEAc"
      }
    },
    {
      "cell_type": "code",
      "source": [
        "from IPython.display import display, HTML\n",
        "\n",
        "iframe_html = \"\"\"\n",
        "<iframe width=\"100%\" height=\"480px\" src=\"https://forms.office.com/Pages/ResponsePage.aspx?id=yjiRs-48Skuk1s2D2d1i8HWjU6i4VDpCiaHEIRxgSIpUMUlXTE9LS0lQQzFXNE5BUEdCWkVSRk5PNi4u&embed=true\" frameborder=\"0\" marginwidth=\"0\" marginheight=\"0\" style=\"border: none; max-width:100%; max-height:100vh\" allowfullscreen webkitallowfullscreen mozallowfullscreen msallowfullscreen> </iframe>\n",
        "\"\"\"\n",
        "\n",
        "display(HTML(iframe_html))"
      ],
      "metadata": {
        "id": "QljxdCn_oJfQ"
      },
      "execution_count": null,
      "outputs": []
    },
    {
      "cell_type": "markdown",
      "source": [
        "<a name=\"solutions\"></a>\n",
        "## Solutions\n",
        "\n"
      ],
      "metadata": {
        "id": "5yHRmLcshZVd"
      }
    },
    {
      "cell_type": "markdown",
      "source": [
        "<br/>\n",
        "<br/>\n",
        "<br/>\n",
        "<br/>\n",
        "<br/>\n",
        "<br/>\n",
        "<br/>\n",
        "<br/>\n",
        "<br/>\n",
        "<br/>\n"
      ],
      "metadata": {
        "id": "fD3n6rFThowu"
      }
    },
    {
      "cell_type": "markdown",
      "source": [
        "### The ingestion"
      ],
      "metadata": {
        "id": "DMcEyWsohcND"
      }
    },
    {
      "cell_type": "code",
      "source": [
        "import pandas as pd\n",
        "import requests\n",
        "\n",
        "data = requests.get(url).json()\n",
        "\n",
        "# Flatten nested dictionaries\n",
        "flattened_df = pd.json_normalize(data, sep='_')\n",
        "\n",
        "job_input.send_tabular_data_for_ingestion(\n",
        "        flattened_df.itertuples(index=False),\n",
        "        destination_table=\"users\",\n",
        "        column_names=flattened_df.columns.tolist(),\n",
        "    )"
      ],
      "metadata": {
        "id": "_IJcoshPhepu"
      },
      "execution_count": null,
      "outputs": []
    },
    {
      "cell_type": "markdown",
      "source": [
        "### The plugin implemented"
      ],
      "metadata": {
        "id": "tT0MwyZGeCna"
      }
    },
    {
      "cell_type": "markdown",
      "source": [
        "Below is plugin implementation. You can compare it to your own or copy-paste it in plugin_entry.py if it's too hard\n",
        "\n",
        "\n",
        "\n",
        "\n",
        "\n",
        "\n"
      ],
      "metadata": {
        "id": "RfRv7w9bdrBg"
      }
    },
    {
      "cell_type": "code",
      "source": [
        "\n",
        "import logging\n",
        "from typing import Any\n",
        "from typing import Dict\n",
        "from typing import List\n",
        "from typing import Optional\n",
        "from typing import Tuple\n",
        "\n",
        "from vdk.api.plugin.hook_markers import hookimpl\n",
        "from vdk.api.plugin.plugin_input import IIngesterPlugin\n",
        "from vdk.internal.builtin_plugins.run.job_context import JobContext\n",
        "from vdk.internal.core.config import ConfigurationBuilder\n",
        "\n",
        "from vdk.api.plugin.plugin_input import IIngesterPlugin\n",
        "\n",
        "import json\n",
        "\n",
        "log = logging.getLogger(__name__)\n",
        "\n",
        "\n",
        "\"\"\"\n",
        "Ingester Plugins are implemented by inheriting IIngesterPlugin and impelemented only the needed methods.\n",
        "See IIngesterPlugin docs for more info.\n",
        "\"\"\"\n",
        "\n",
        "@hookimpl(tryfirst=True)\n",
        "def vdk_configure(config_builder: ConfigurationBuilder) -> None:\n",
        "    # Declare needed configuration, it will be injected automatically fron file, env variables, etc.\n",
        "    config_builder.add(\n",
        "        key=\"anonymization_fields\",\n",
        "        default_value='{\"table_name\": [\"column_name\"]}',\n",
        "        description=\"Map with entity/table name and list of attributes names that need to be anonymized.\"\n",
        "        \"Checks are case sensitive.\",\n",
        "    )\n",
        "\n",
        "\n",
        "@hookimpl\n",
        "def initialize_job(context: JobContext) -> None:\n",
        "    # Now let's get the correctly configured value\n",
        "    anonymization_fields = context.core_context.configuration.get_value(\n",
        "        \"anonymization_fields\"\n",
        "    )\n",
        "    anonymization_fields = json.loads(anonymization_fields)\n",
        "    log.info(f\"Anonymization fields: {anonymization_fields}\")\n",
        "    context.ingester.add_ingester_factory_method(\n",
        "        \"anonymize\",\n",
        "        lambda: AnonymizationIngesterPlugin(anonymization_fields),\n",
        "    )\n",
        "\n",
        "\n",
        "\n",
        "class AnonymizationIngesterPlugin(IIngesterPlugin):\n",
        "    def __init__(\n",
        "        self, anonymization_fields: Dict[str, List[str]] ) -> None:\n",
        "        self._anonymization_fields = anonymization_fields\n",
        "\n",
        "    def _anonymize(self, value):\n",
        "      import hashlib\n",
        "      return hashlib.sha256(f\"{value}\".encode()).hexdigest()[0:30]\n",
        "\n",
        "    # inherited\n",
        "    def pre_ingest_process(\n",
        "        self,\n",
        "        payload: List[dict],\n",
        "        destination_table: Optional[str] = None,\n",
        "        target: Optional[str] = None,\n",
        "        collection_id: Optional[str] = None,\n",
        "        metadata: IIngesterPlugin.IngestionMetadata = None,\n",
        "    ) -> Tuple[List[Dict], Optional[IIngesterPlugin.IngestionMetadata]]:\n",
        "        # Anonymize fields in payload based on _anonymization_fields\n",
        "        anonymized_payload = []\n",
        "        for record in payload:\n",
        "            anonymized_record = {}\n",
        "            for field, value in record.items():\n",
        "                if field in self._anonymization_fields.get(destination_table, []):\n",
        "                    anonymized_record[field] = self._anonymize(value)\n",
        "                else:\n",
        "                    anonymized_record[field] = value\n",
        "            anonymized_payload.append(anonymized_record)\n",
        "\n",
        "        return anonymized_payload, metadata\n"
      ],
      "metadata": {
        "id": "jGP6HQ80drhx"
      },
      "execution_count": null,
      "outputs": []
    }
  ]
}
