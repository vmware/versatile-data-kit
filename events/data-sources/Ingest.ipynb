{
  "nbformat": 4,
  "nbformat_minor": 0,
  "metadata": {
    "colab": {
      "provenance": [],
      "toc_visible": true,
      "authorship_tag": "ABX9TyMhh3iqcu+G+lxuvtnRJhOj",
      "include_colab_link": true
    },
    "kernelspec": {
      "name": "python3",
      "display_name": "Python 3"
    },
    "language_info": {
      "name": "python"
    }
  },
  "cells": [
    {
      "cell_type": "markdown",
      "metadata": {
        "id": "view-in-github",
        "colab_type": "text"
      },
      "source": [
        "<a href=\"https://colab.research.google.com/github/antoniivanov/vdk-demo/blob/main/ingest/Ingest.ipynb\" target=\"_parent\"><img src=\"https://colab.research.google.com/assets/colab-badge.svg\" alt=\"Open In Colab\"/></a>"
      ]
    },
    {
      "cell_type": "markdown",
      "source": [
        "\n",
        "\n",
        "# Ingest Guide"
      ],
      "metadata": {
        "id": "-kBo-YdbHahM"
      }
    },
    {
      "cell_type": "markdown",
      "source": [
        "This notebook provides a guide on how to ingest data from any difference data sources using the [Versatile Data Kit (VDK)](https://github.com/vmware/versatile-data-kit)\n",
        "\n",
        "\n"
      ],
      "metadata": {
        "id": "tiB5cbn1HdSd"
      }
    },
    {
      "cell_type": "markdown",
      "source": [
        "<img src=\"https://bit.ly/start-ingest-guide-jpeg\" width=\"600\" />\n",
        "\n"
      ],
      "metadata": {
        "id": "VNA1a0bGHIjb"
      }
    },
    {
      "cell_type": "markdown",
      "source": [
        "<a name=\"prerequisites\"></a>\n",
        "## 1. Prerequisites"
      ],
      "metadata": {
        "id": "QgmxvpD3HumX"
      }
    },
    {
      "cell_type": "markdown",
      "source": [
        "### 1.1 Good to Know Before You Start\n"
      ],
      "metadata": {
        "id": "YvV7ZdOhIjwd"
      }
    },
    {
      "cell_type": "markdown",
      "source": [
        "This tutorial is designed to be accessible, but you'll find it easier if you're familiar with:\n",
        "\n",
        "- **Python and SQL**: Basic commands and queries.\n",
        "- **Data Concepts**: Simple data modeling and API usage.\n",
        "- **Tools**: Comfort with command line and Jupyter Notebook"
      ],
      "metadata": {
        "id": "6j3Es3m9ImjX"
      }
    },
    {
      "cell_type": "markdown",
      "source": [
        "### 1.2 Useful notebook shortcuts"
      ],
      "metadata": {
        "id": "6FVatJ5IE1mE"
      }
    },
    {
      "cell_type": "markdown",
      "source": [
        "\n",
        "* Click the **Play icon** in the left gutter of the cell;\n",
        "* Type **Cmd/Ctrl+Enter** to run the cell in place;\n",
        "* Type **Shift+Enter** to run the cell and move focus to the next cell (adding one if none exists); or\n",
        "* Type **Alt+Enter** to run the cell and insert a new code cell immediately below it.\n",
        "\n",
        "There are additional options for running some or all cells in the **Runtime** menu on top.\n"
      ],
      "metadata": {
        "id": "wQd3EtynScIi"
      }
    },
    {
      "cell_type": "markdown",
      "source": [
        "### 1.3 Install Versatile Data Kit and enable plugins"
      ],
      "metadata": {
        "id": "cUgMUbuFH0sO"
      }
    },
    {
      "cell_type": "code",
      "source": [
        "!pip install quickstart-vdk vdk-notebook vdk-ipython==0.2.5 vdk-data-sources vdk-singer tap-rest-api-msdk"
      ],
      "metadata": {
        "id": "A4cmJRoOHyUV"
      },
      "execution_count": null,
      "outputs": []
    },
    {
      "cell_type": "markdown",
      "source": [
        "<a name=\"configuration\"></a>\n",
        "## 2. Configuration"
      ],
      "metadata": {
        "id": "8sm53R6iYZph"
      }
    },
    {
      "cell_type": "code",
      "source": [
        "%env DB_DEFAULT_TYPE=sqlite\n",
        "%env INGEST_METHOD_DEFAULT=sqlite\n",
        "%env INGESTER_WAIT_TO_FINISH_AFTER_EVERY_SEND=true"
      ],
      "metadata": {
        "id": "uT4zIX7CXaqH"
      },
      "execution_count": null,
      "outputs": []
    },
    {
      "cell_type": "markdown",
      "source": [
        "<a name=\"init\"></a>\n",
        "## 3. Initialize new VDK job (input)"
      ],
      "metadata": {
        "id": "dBgTQ8mGYfi3"
      }
    },
    {
      "cell_type": "code",
      "source": [
        "\"\"\"\n",
        "vdk.plugin.ipython extension introduces a magic command for Jupyter.\n",
        "The command enables the user to load VDK for the current notebook.\n",
        "VDK provides the job_input API, which has methods for:\n",
        "    * executing queries to an OLAP database;\n",
        "    * ingesting data into a database;\n",
        "    * processing data into a database.\n",
        "Type help(job_input) to see its documentation.\n",
        "\n",
        "\"\"\"\n",
        "\n",
        "# NOTE: The CELL may fail when run the first time. Run it again and it shoud suceeds.\n",
        "\n",
        "%reload_ext vdk.plugin.ipython\n",
        "%reload_VDK\n",
        "job_input = VDK.get_initialized_job_input()"
      ],
      "metadata": {
        "id": "jkVZGWRbNL_-"
      },
      "execution_count": null,
      "outputs": []
    },
    {
      "cell_type": "markdown",
      "source": [
        "<a name=\"explore\"></a>\n",
        "\n",
        "### 3.1 Explore what you can do (Task 1)"
      ],
      "metadata": {
        "id": "9HwcSjc4TTDe"
      }
    },
    {
      "cell_type": "markdown",
      "source": [
        "![image.png](https://github.com/vmware/versatile-data-kit/assets/2536458/80ba93a9-e2cf-4067-bd09-90807e06aa33)"
      ],
      "metadata": {
        "id": "BZhvnKy3c86V"
      }
    },
    {
      "cell_type": "code",
      "source": [
        "# See all methods with help:\n",
        "help(job_input)"
      ],
      "metadata": {
        "id": "QZR1wggnSwox"
      },
      "execution_count": null,
      "outputs": []
    },
    {
      "cell_type": "markdown",
      "source": [
        "#### 3.1.1 Access job arguments\n",
        "\n"
      ],
      "metadata": {
        "id": "4xDSmBPbmRgZ"
      }
    },
    {
      "cell_type": "code",
      "source": [
        "print(job_input.get_arguments())"
      ],
      "metadata": {
        "id": "7Vt3g_FdmvG6"
      },
      "execution_count": null,
      "outputs": []
    },
    {
      "cell_type": "markdown",
      "source": [
        "#### 3.1.2 Execute SQL Queries"
      ],
      "metadata": {
        "id": "ek9Jm7ewbhF-"
      }
    },
    {
      "cell_type": "code",
      "source": [
        "%%vdksql\n",
        "create table hello_world as\n",
        "select \"Hello World!\" as hello, \"English\" as language\n",
        "union all\n",
        "select \"¡Hola Mundo!\", \"Spanish\"\n",
        "union all\n",
        "select \"こんにちは世界\", \"Japanese\"\n",
        "union all\n",
        "select \"Bonjour le monde\", \"French\"\n",
        "union all\n",
        "select \"Hallo Welt\", \"German\"\n",
        "union all\n",
        "select \"Привет мир\", \"Russian\""
      ],
      "metadata": {
        "id": "TN6vrmT9M5vx"
      },
      "execution_count": null,
      "outputs": []
    },
    {
      "cell_type": "code",
      "source": [
        "%%vdksql\n",
        "select * from hello_world"
      ],
      "metadata": {
        "id": "RIQC89avSJRv"
      },
      "execution_count": null,
      "outputs": []
    },
    {
      "cell_type": "markdown",
      "source": [
        "#### 3.1.3 Manage state properties or secrets"
      ],
      "metadata": {
        "id": "Dvacc37bbkqn"
      }
    },
    {
      "cell_type": "code",
      "source": [
        "import time\n",
        "job_input.set_all_properties({\"last_time_run\": time.time()})\n",
        "job_input.set_all_secrets({ \"secret\": \"my secret\" })\n",
        "\n",
        "print(job_input.get_all_properties())"
      ],
      "metadata": {
        "id": "MlpWM1KvUej-"
      },
      "execution_count": null,
      "outputs": []
    },
    {
      "cell_type": "markdown",
      "source": [
        "#### 3.1.4 Check the available data sources"
      ],
      "metadata": {
        "id": "d5ZNNUrA-0nk"
      }
    },
    {
      "cell_type": "code",
      "source": [
        "!vdk data-sources --list"
      ],
      "metadata": {
        "id": "oLUQjs17-7eG"
      },
      "execution_count": null,
      "outputs": []
    },
    {
      "cell_type": "markdown",
      "source": [
        "One particularly important data source is **singer-tap**.\n",
        "\n",
        "[Singer Taps](https://www.singer.io/#taps) extract data from a lot of different sources. Versatile Data Kit makes it easy to reuse all kinds of singer taps\n",
        "\n",
        "To list some singer taps that are available use:"
      ],
      "metadata": {
        "id": "EKzvuPHU-9ee"
      }
    },
    {
      "cell_type": "code",
      "source": [
        "!vdk singer --list-taps"
      ],
      "metadata": {
        "id": "k3cpQpsz_pjr"
      },
      "execution_count": null,
      "outputs": []
    },
    {
      "cell_type": "markdown",
      "source": [
        "<a name=\"ingest\"></a>\n",
        "## 4. Ingesting data (Task 2)\n",
        "\n",
        "We will ingest user data from HTTP API (https://jsonplaceholder.typicode.com/users) into a database (sqlite in this case).\n",
        "\n",
        "Feel free to pick up any other data source or any other destination. But below instruction are based on above scenario."
      ],
      "metadata": {
        "id": "4pW_qT8hWeIx"
      }
    },
    {
      "cell_type": "markdown",
      "source": [
        "### Main Concepts\n",
        "\n",
        "Before diving into the tutorial, let's get acquainted with some key terms:\n",
        "\n",
        "- **Data Source**\n",
        "A Data Source is like a bridge to your data. It handles connecting, reading, and maintaining a relationship with a specific set of data, like a database or an API.\n",
        "\n",
        "- **Data Source Stream**\n",
        "Think of a Data Source Stream as a lane on that bridge. Each lane (or stream) can carry specific types of data, like users, orders, etc. Streams allow data to flow in an organized manner and can be processed in parallel.\n",
        "\n",
        "- **Data Source Payload**\n",
        "The Payload is essentially the vehicle traveling on our bridge's lane. It carries the actual data, along with some extra information like what time it left and where it's headed (metadata), to help us understand the data better.\n",
        "\n"
      ],
      "metadata": {
        "id": "jmh_1MpID96-"
      }
    },
    {
      "cell_type": "markdown",
      "source": [
        "### 4.1 Install HTTP API data source\n",
        "\n",
        "We will use the singer data source and we will use the REST API Tap \"[tap-rest-api-msdk](https://pypi.org/project/tap-rest-api-msdk/)\" . So we need to install it first"
      ],
      "metadata": {
        "id": "syBkKIIuAB4P"
      }
    },
    {
      "cell_type": "code",
      "source": [
        "!pip install tap-rest-api-msdk"
      ],
      "metadata": {
        "id": "-Q90NElRAen3"
      },
      "execution_count": null,
      "outputs": []
    },
    {
      "cell_type": "markdown",
      "source": [
        "### 4.2 Ingestion using configuration (toml)\n",
        "\n",
        "Now, let's configure our source and destination for the data flow.\n",
        "\n",
        "We will use the ipython magic ***%%vdkingest*** to define and **trigger** our ingestion pipeline.\n"
      ],
      "metadata": {
        "id": "IfkH3d2SAmbR"
      }
    },
    {
      "cell_type": "code",
      "source": [
        "%%vdkingest\n",
        "\n",
        "# Data Source Configuration\n",
        "[sources.users]\n",
        "# Data Source Name\n",
        "name = \"singer-tap\"\n",
        "# The singer tap we will use\n",
        "config.tap_name = \"tap-rest-api-msdk\"\n",
        "\n",
        "  # API Configuration for the Source\n",
        "  [sources.users.config.tap_config]\n",
        "  api_url = \"https://jsonplaceholder.typicode.com\"\n",
        "\n",
        "  # Stream Configuration for the API endpoing /users\n",
        "  [[sources.users.config.tap_config.streams]]\n",
        "  name = \"users\"\n",
        "  path = \"/users\"\n",
        "  records_path = \"$.[*]\"\n",
        "  num_inference_records = 200\n",
        "\n",
        "# Data Destination Configuration\n",
        "[destinations.sqlite]\n",
        "method = \"sqlite\"\n",
        "\n",
        "# Data Flows from Source to Destination\n",
        "[[flows]]\n",
        "from = \"users\"\n",
        "to = \"sqlite\"\n"
      ],
      "metadata": {
        "id": "ismDEUVAAwgc"
      },
      "execution_count": null,
      "outputs": []
    },
    {
      "cell_type": "markdown",
      "source": [
        "Let's verify the data by querying the database\n",
        "\n",
        "\n"
      ],
      "metadata": {
        "id": "m6IBBcg_BG5B"
      }
    },
    {
      "cell_type": "code",
      "source": [
        "%%vdksql\n",
        "select * from users"
      ],
      "metadata": {
        "id": "of5py3iaBJkY"
      },
      "execution_count": null,
      "outputs": []
    },
    {
      "cell_type": "markdown",
      "source": [
        "### 4.3 Ingestion using Python\n",
        "\n",
        "Now let's use programmatic python way to trigger the ingestion"
      ],
      "metadata": {
        "id": "tbWXCRYyA9qq"
      }
    },
    {
      "cell_type": "code",
      "source": [
        "# sources and destinations definitions\n",
        "from vdk.plugin.data_sources.mapping.data_flow import DataFlowInput\n",
        "from vdk.plugin.data_sources.mapping.definitions import DestinationDefinition\n",
        "from vdk.plugin.data_sources.mapping.definitions import SourceDefinition\n",
        "from vdk.plugin.data_sources.mapping.definitions import DataFlowMappingDefinition\n",
        "\n",
        "# data source configuration\n",
        "config = dict(tap_name=\"tap-rest-api-msdk\",\n",
        "              tap_config={\n",
        "                  \"api_url\": \"https://jsonplaceholder.typicode.com\",\n",
        "                  \"streams\": [\n",
        "                      {\n",
        "                          \"name\": \"users\",\n",
        "                          \"path\": \"/users\",\n",
        "                          \"records_path\": \"$.[*]\",\n",
        "                          \"num_inference_records\": 200,\n",
        "                      }\n",
        "                  ],\n",
        "              },\n",
        "              tap_auto_discover_schema=True)\n",
        "\n",
        "source = SourceDefinition(id=\"users\", name=\"singer-tap\", config=config)\n",
        "\n",
        "sqlite_destination = DestinationDefinition(id=\"sqlite\", method=\"sqlite\")\n"
      ],
      "metadata": {
        "id": "_JKYcaQNBt8m"
      },
      "execution_count": null,
      "outputs": []
    },
    {
      "cell_type": "code",
      "source": [
        "# define the data flow mapping\n",
        "mapping = DataFlowMappingDefinition(source, sqlite_destination)\n",
        "\n",
        "# execute the actual ingestion\n",
        "\n",
        "with DataFlowInput(job_input) as flow_input:\n",
        "    flow_input.start(DataFlowMappingDefinition(source, sqlite_destination))\n"
      ],
      "metadata": {
        "id": "lDU5EebLf-9y"
      },
      "execution_count": null,
      "outputs": []
    },
    {
      "cell_type": "markdown",
      "source": [
        "Let's verify the data by querying the database\n"
      ],
      "metadata": {
        "id": "97dHX82IBMD2"
      }
    },
    {
      "cell_type": "code",
      "source": [
        "%%vdksql\n",
        "select * from users"
      ],
      "metadata": {
        "id": "h1hvU0IaBNbx"
      },
      "execution_count": null,
      "outputs": []
    },
    {
      "cell_type": "markdown",
      "source": [
        "### 4.4 Remapping and simple transformation\n",
        "\n",
        "Sometimes we need to do simple mappings from source to destination. Let's see how to do that"
      ],
      "metadata": {
        "id": "spKjroeJBA_q"
      }
    },
    {
      "cell_type": "code",
      "source": [
        "from vdk.plugin.data_sources.data_source import DataSourcePayload\n",
        "\n",
        "def map_func(p: DataSourcePayload):\n",
        "    p.data[\"new_column\"] = \"new_column\"\n",
        "    new_table = \"users_with_column\"\n",
        "    return DataSourcePayload(p.data, p.metadata, p.state, new_table)\n",
        "\n",
        "\n",
        "with DataFlowInput(job_input) as flow_input:\n",
        "    flow_input.start(DataFlowMappingDefinition(source, sqlite_destination, map_func))\n",
        "\n"
      ],
      "metadata": {
        "id": "g0poaZY5AeUX"
      },
      "execution_count": null,
      "outputs": []
    },
    {
      "cell_type": "markdown",
      "source": [
        "So let's see the data with the new column"
      ],
      "metadata": {
        "id": "xYSvBsNMTpjU"
      }
    },
    {
      "cell_type": "code",
      "source": [
        "%%vdksql\n",
        "select new_column, * from users_with_column"
      ],
      "metadata": {
        "id": "hei0Q9nLTome"
      },
      "execution_count": null,
      "outputs": []
    },
    {
      "cell_type": "markdown",
      "source": [
        "# Congratulations! 🎉\n",
        "\n",
        "You've successfully completed the Data Ingestion Guide with VDK! We hope you found this guide useful.\n",
        "\n",
        "## Your Feedback Matters!\n",
        "\n",
        "We continuously strive to improve and your feedback is invaluable to us. Please take a moment to complete our survey. It will only take a few minutes.\n",
        "\n",
        "### [**👉 Complete the Survey Here 👈**](https://bit.ly/vdk-ingest-guide-survey)\n",
        "\n",
        "Thank you for participating in this tutorial!\n"
      ],
      "metadata": {
        "id": "OhyFUi9KF9L-"
      }
    }
  ]
}